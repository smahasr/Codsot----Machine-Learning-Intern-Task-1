{
  "nbformat": 4,
  "nbformat_minor": 0,
  "metadata": {
    "colab": {
      "provenance": [],
      "authorship_tag": "ABX9TyML7jp2fUuU5VUCi0R/bGBC",
      "include_colab_link": true
    },
    "kernelspec": {
      "name": "python3",
      "display_name": "Python 3"
    },
    "language_info": {
      "name": "python"
    }
  },
  "cells": [
    {
      "cell_type": "markdown",
      "metadata": {
        "id": "view-in-github",
        "colab_type": "text"
      },
      "source": [
        "<a href=\"https://colab.research.google.com/github/smahasr/Codsot----Machine-Learning-Intern-Task-1/blob/main/Codsoft_Machine_learning_internship_task_1.ipynb\" target=\"_parent\"><img src=\"https://colab.research.google.com/assets/colab-badge.svg\" alt=\"Open In Colab\"/></a>"
      ]
    },
    {
      "cell_type": "markdown",
      "source": [
        "Objective:\n",
        "\n",
        "\n",
        "\n",
        "Create a machine learning model that can predict the genre of a\n",
        "movie based on its plot summary or other textual information. You\n",
        "can use techniques like TF-IDF or word embeddings with classifiers\n",
        "such as Naive Bayes, Logistic Regression, or Support Vector\n",
        "Machines."
      ],
      "metadata": {
        "id": "F6KgqmWDDm33"
      }
    },
    {
      "cell_type": "markdown",
      "source": [
        "Steps to Follow:\n",
        "\n",
        "1. Load and examine the training data.\n",
        "2. Preprocess the text data.\n",
        "3. Create features using TF-IDF.\n",
        "4. Train a classifier (e.g., Logistic Regression).\n",
        "5. Evaluate the model on test data.\n",
        "\n",
        "\n",
        "\n",
        "\n"
      ],
      "metadata": {
        "id": "B_yOJ0MdDxnH"
      }
    },
    {
      "cell_type": "markdown",
      "source": [
        "The training data consists of lines where each line represents a movie with the following format:\n",
        "id::: Title:::plot:::summary.\n",
        "\n",
        "\n",
        "Steps to Proceed:\n",
        "\n",
        "1. Load and preprocess the training data to separate the ID, title, genre, and plot summary.\n",
        "2. Vectorize the plot summaries using TF-IDF.\n",
        "3. Train a classifier (Logistic Regression) on the training data.\n",
        "4. Evaluate the model using the test data.\n",
        "\n"
      ],
      "metadata": {
        "id": "d3VDHrseEcJT"
      }
    },
    {
      "cell_type": "markdown",
      "source": [
        "Step 1: Load and Preprocess the data."
      ],
      "metadata": {
        "id": "I4qEqiBXGDPK"
      }
    },
    {
      "cell_type": "code",
      "source": [
        "import pandas as pd\n",
        "\n",
        "# Function to preprocess the data\n",
        "def preprocess_data(data, is_train=True):\n",
        "    ids = []\n",
        "    titles = []\n",
        "    genres = []\n",
        "    plots = []\n",
        "\n",
        "    for line in data:\n",
        "        parts = line.strip().split(' ::: ')\n",
        "        if is_train:\n",
        "            if len(parts) == 4:\n",
        "                ids.append(parts[0])\n",
        "                titles.append(parts[1])\n",
        "                genres.append(parts[2])\n",
        "                plots.append(parts[3])\n",
        "            else:\n",
        "                print(f\"Skipping line due to incorrect format: {line}\")\n",
        "        else:\n",
        "            if len(parts) == 3:\n",
        "                ids.append(parts[0])\n",
        "                titles.append(parts[1])\n",
        "                plots.append(parts[2])\n",
        "            else:\n",
        "                print(f\"Skipping line due to incorrect format: {line}\")\n",
        "\n",
        "    if not ids:\n",
        "        raise ValueError(\"No valid data found after preprocessing. Please check the input format.\")\n",
        "\n",
        "    if is_train:\n",
        "        return pd.DataFrame({\n",
        "            'id': ids,\n",
        "            'title': titles,\n",
        "            'genre': genres,\n",
        "            'plot': plots\n",
        "        })\n",
        "    else:\n",
        "        return pd.DataFrame({\n",
        "            'id': ids,\n",
        "            'title': titles,\n",
        "            'plot': plots\n",
        "        })\n",
        "\n",
        "# Read and preprocess the training data\n",
        "with open('/content/train_data.txt', 'r') as file:\n",
        "    train_data = file.readlines()\n",
        "\n",
        "train_df = preprocess_data(train_data, is_train=True)\n"
      ],
      "metadata": {
        "id": "S7tlZBhskjWb"
      },
      "execution_count": 7,
      "outputs": []
    },
    {
      "cell_type": "markdown",
      "source": [
        "Step 2. Vectorize the Plot Summaries Using TF-IDF"
      ],
      "metadata": {
        "id": "MDSJ6IMWGPVU"
      }
    },
    {
      "cell_type": "code",
      "source": [
        "from sklearn.feature_extraction.text import TfidfVectorizer\n",
        "\n",
        "# Vectorize the plot summaries using TF-IDF\n",
        "tfidf = TfidfVectorizer(stop_words='english', max_features=5000)\n",
        "X_train_tfidf = tfidf.fit_transform(train_df['plot'])\n",
        "y_train = train_df['genre']\n"
      ],
      "metadata": {
        "id": "-_gt72N7koaR"
      },
      "execution_count": 8,
      "outputs": []
    },
    {
      "cell_type": "markdown",
      "source": [
        "Step 3. Model Training"
      ],
      "metadata": {
        "id": "6e4d7gxPGVRQ"
      }
    },
    {
      "cell_type": "code",
      "source": [
        "from sklearn.linear_model import LogisticRegression\n",
        "from sklearn.model_selection import train_test_split\n",
        "from sklearn.metrics import classification_report, accuracy_score\n",
        "\n",
        "# Split the data into training and validation sets\n",
        "X_train, X_val, y_train, y_val = train_test_split(X_train_tfidf, y_train, test_size=0.2, random_state=42)\n",
        "\n",
        "# Train a Logistic Regression model\n",
        "log_reg = LogisticRegression(max_iter=1000, random_state=42)\n",
        "log_reg.fit(X_train, y_train)\n",
        "\n",
        "# Evaluate the model on the validation set\n",
        "y_val_pred = log_reg.predict(X_val)\n",
        "print(\"Validation Accuracy:\", accuracy_score(y_val, y_val_pred))\n",
        "print(\"Validation Classification Report:\")\n",
        "print(classification_report(y_val, y_val_pred))\n"
      ],
      "metadata": {
        "colab": {
          "base_uri": "https://localhost:8080/"
        },
        "id": "sPNIxAQSkr11",
        "outputId": "fdf463a1-7944-415d-ed90-ba5237f1d753"
      },
      "execution_count": 9,
      "outputs": [
        {
          "output_type": "stream",
          "name": "stdout",
          "text": [
            "Validation Accuracy: 0.5793599557318085\n",
            "Validation Classification Report:\n"
          ]
        },
        {
          "output_type": "stream",
          "name": "stderr",
          "text": [
            "/usr/local/lib/python3.10/dist-packages/sklearn/metrics/_classification.py:1344: UndefinedMetricWarning: Precision and F-score are ill-defined and being set to 0.0 in labels with no predicted samples. Use `zero_division` parameter to control this behavior.\n",
            "  _warn_prf(average, modifier, msg_start, len(result))\n"
          ]
        },
        {
          "output_type": "stream",
          "name": "stdout",
          "text": [
            "              precision    recall  f1-score   support\n",
            "\n",
            "      action       0.52      0.26      0.34       263\n",
            "       adult       0.73      0.21      0.33       112\n",
            "   adventure       0.43      0.14      0.22       139\n",
            "   animation       0.62      0.10      0.17       104\n",
            "   biography       0.00      0.00      0.00        61\n",
            "      comedy       0.51      0.58      0.55      1443\n",
            "       crime       0.29      0.02      0.04       107\n",
            " documentary       0.66      0.84      0.74      2659\n",
            "       drama       0.54      0.78      0.64      2697\n",
            "      family       0.39      0.07      0.12       150\n",
            "     fantasy       0.00      0.00      0.00        74\n",
            "   game-show       0.94      0.42      0.59        40\n",
            "     history       0.00      0.00      0.00        45\n",
            "      horror       0.64      0.56      0.60       431\n",
            "       music       0.62      0.47      0.54       144\n",
            "     musical       1.00      0.02      0.04        50\n",
            "     mystery       0.00      0.00      0.00        56\n",
            "        news       1.00      0.06      0.11        34\n",
            "  reality-tv       0.47      0.18      0.26       192\n",
            "     romance       0.17      0.01      0.01       151\n",
            "      sci-fi       0.57      0.22      0.31       143\n",
            "       short       0.47      0.33      0.39      1045\n",
            "       sport       0.58      0.19      0.29        93\n",
            "   talk-show       0.65      0.14      0.22        81\n",
            "    thriller       0.38      0.14      0.21       309\n",
            "         war       0.00      0.00      0.00        20\n",
            "     western       0.95      0.70      0.80       200\n",
            "\n",
            "    accuracy                           0.58     10843\n",
            "   macro avg       0.49      0.24      0.28     10843\n",
            "weighted avg       0.55      0.58      0.54     10843\n",
            "\n"
          ]
        },
        {
          "output_type": "stream",
          "name": "stderr",
          "text": [
            "/usr/local/lib/python3.10/dist-packages/sklearn/metrics/_classification.py:1344: UndefinedMetricWarning: Precision and F-score are ill-defined and being set to 0.0 in labels with no predicted samples. Use `zero_division` parameter to control this behavior.\n",
            "  _warn_prf(average, modifier, msg_start, len(result))\n",
            "/usr/local/lib/python3.10/dist-packages/sklearn/metrics/_classification.py:1344: UndefinedMetricWarning: Precision and F-score are ill-defined and being set to 0.0 in labels with no predicted samples. Use `zero_division` parameter to control this behavior.\n",
            "  _warn_prf(average, modifier, msg_start, len(result))\n"
          ]
        }
      ]
    },
    {
      "cell_type": "markdown",
      "source": [
        "Step 4: Prediction on Test Data"
      ],
      "metadata": {
        "id": "OUCyuEIv2zyn"
      }
    },
    {
      "cell_type": "code",
      "source": [
        "# Read and preprocess the test data\n",
        "test_file_path = '/content/test_data.txt'\n",
        "with open(test_file_path, 'r') as file:\n",
        "    test_data = file.readlines()\n",
        "\n",
        "test_df = preprocess_data(test_data, is_train=False)\n",
        "\n",
        "# Ensure the test data is not empty\n",
        "if test_df.empty:\n",
        "    raise ValueError(\"Test data is empty. Please check the test data file.\")\n",
        "\n",
        "# Transform the test data using the same TF-IDF vectorizer\n",
        "X_test_tfidf = tfidf.transform(test_df['plot'])\n",
        "\n",
        "# Make predictions on the test data\n",
        "y_test_pred = log_reg.predict(X_test_tfidf)\n",
        "\n",
        "# Add predictions to the test DataFrame\n",
        "test_df['predicted_genre'] = y_test_pred\n",
        "\n",
        "# Display the test DataFrame with predictions\n",
        "print(test_df[['id', 'title', 'predicted_genre']])\n",
        "\n",
        "# Save the results to a CSV file\n",
        "test_df.to_csv('/content/predicted_test_data.csv', index=False)\n"
      ],
      "metadata": {
        "colab": {
          "base_uri": "https://localhost:8080/"
        },
        "id": "1BRP3lpzkwr3",
        "outputId": "fa110073-bf44-4686-df65-1f00e7874c81"
      },
      "execution_count": 10,
      "outputs": [
        {
          "output_type": "stream",
          "name": "stdout",
          "text": [
            "          id                           title predicted_genre\n",
            "0          1            Edgar's Lunch (1998)           short\n",
            "1          2        La guerra de papá (1977)           drama\n",
            "2          3     Off the Beaten Track (2010)     documentary\n",
            "3          4          Meu Amigo Hindu (2015)           drama\n",
            "4          5               Er nu zhai (1955)           drama\n",
            "...      ...                             ...             ...\n",
            "54195  54196  \"Tales of Light & Dark\" (2013)           drama\n",
            "54196  54197     Der letzte Mohikaner (1965)          action\n",
            "54197  54198             Oliver Twink (2007)          comedy\n",
            "54198  54199               Slipstream (1973)           drama\n",
            "54199  54200       Curitiba Zero Grau (2010)     documentary\n",
            "\n",
            "[54200 rows x 3 columns]\n"
          ]
        }
      ]
    },
    {
      "cell_type": "markdown",
      "source": [
        "##Conclusion:\n",
        "\n",
        "\n",
        "##Model Performance:\n",
        "\n",
        "* Validation Accuracy: 57.9%\n",
        "* Performance Variability: High accuracy for genres like documentary and drama, but poor performance for less frequent genres like biography and fantasy.\n",
        "\n",
        "\n",
        "\n",
        "##Test Data Predictions:\n",
        "\n",
        "* The model predicts a variety of genres, with drama, documentary, and short being common predictions.\n",
        "\n"
      ],
      "metadata": {
        "id": "FswuiMdQnVXO"
      }
    }
  ]
}